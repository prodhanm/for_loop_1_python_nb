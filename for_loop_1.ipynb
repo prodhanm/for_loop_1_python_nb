{
 "cells": [
  {
   "cell_type": "code",
   "execution_count": 12,
   "id": "f3d3ee24",
   "metadata": {},
   "outputs": [
    {
     "name": "stdout",
     "output_type": "stream",
     "text": [
      "d = I love pizza\n",
      "The length of the string is 12.\n",
      "'i' is located at index 8.\n",
      "slice_str = izz.\n"
     ]
    }
   ],
   "source": [
    "a = \"I\"\n",
    "b = \"love\"\n",
    "c = \"PIZZA\"\n",
    "\n",
    "d = a + \" \" + b + \" \" + c.lower()\n",
    "print(f\"d = {d}\")\n",
    "\n",
    "count = 0\n",
    "for i in d:\n",
    "    count += 1\n",
    "print(f\"The length of the string is {count}.\")\n",
    "\n",
    "# Slice the string to get \"izz\"\n",
    "slice_ind = d.index(\"i\")\n",
    "print(f\"'i' is located at index {slice_ind}.\")\n",
    "\n",
    "slice_str = d[8:11]\n",
    "print(f\"slice_str = {slice_str}.\")"
   ]
  },
  {
   "cell_type": "code",
   "execution_count": 18,
   "id": "b65f491a",
   "metadata": {},
   "outputs": [
    {
     "name": "stdout",
     "output_type": "stream",
     "text": [
      "c = [6, 9]\n",
      "d = [9, 3, 6, 2, 7, 4, 8]\n",
      "e = [8, 4, 7, 2, 6]\n",
      "f = [6, 3, 9]\n",
      "g = [7, 2, 6, 3]\n",
      "h = [3, 9]\n"
     ]
    }
   ],
   "source": [
    "b = [8, 4, 7, 2, 6, 3, 9]\n",
    "\n",
    "c = b[4::2]\n",
    "print(f\"c = {c}\")\n",
    "\n",
    "d = b[::-1]\n",
    "print(f\"d = {d}\")\n",
    "\n",
    "e = b[:5]\n",
    "print(f\"e = {e}\")\n",
    "\n",
    "f = b[4:9]\n",
    "print(f\"f = {f}\")\n",
    "\n",
    "g = b[2:6]\n",
    "print(f\"g = {g}\")\n",
    "\n",
    "h = b[5:1000]\n",
    "print(f\"h = {h}\")"
   ]
  },
  {
   "cell_type": "code",
   "execution_count": 9,
   "id": "c1907e1f",
   "metadata": {},
   "outputs": [
    {
     "name": "stdout",
     "output_type": "stream",
     "text": [
      "list_a = ['b', 'c']\n",
      "list_b = g\n",
      "list_c = ['h', 'i', 'j']\n"
     ]
    }
   ],
   "source": [
    "nested_list = [[\"a\", \"b\", \"c\"], [\"e\", \"f\", \"g\"], [\"h\", \"i\", \"j\"]]\n",
    "list_a = nested_list[0][1:]\n",
    "print(f\"list_a = {list_a}\")\n",
    "\n",
    "list_b = nested_list[1][2]\n",
    "print(f\"list_b = {list_b}\")\n",
    "\n",
    "list_c = nested_list[2]\n",
    "print(f\"list_c = {list_c}\")"
   ]
  },
  {
   "cell_type": "code",
   "execution_count": 13,
   "id": "5f635583",
   "metadata": {},
   "outputs": [
    {
     "name": "stdout",
     "output_type": "stream",
     "text": [
      "[1, 2, 3, 4, 5, 6, 7, 8, 9, 10]\n"
     ]
    },
    {
     "data": {
      "text/plain": [
       "184"
      ]
     },
     "execution_count": 13,
     "metadata": {},
     "output_type": "execute_result"
    }
   ],
   "source": [
    "import sys\n",
    "\n",
    "#the use of range() in a for loop\n",
    "num = [i for i in range(1, 11)]\n",
    "print(num)\n",
    "sys.getsizeof(num)\n"
   ]
  },
  {
   "cell_type": "code",
   "execution_count": 14,
   "id": "afb1ed8d",
   "metadata": {},
   "outputs": [
    {
     "data": {
      "text/plain": [
       "48"
      ]
     },
     "execution_count": 14,
     "metadata": {},
     "output_type": "execute_result"
    }
   ],
   "source": [
    "#the difference between using list comprehension to create a list and range() by itself\n",
    "\n",
    "num_r = range(1, 11)\n",
    "sys.getsizeof(num_r)"
   ]
  },
  {
   "cell_type": "code",
   "execution_count": 15,
   "id": "57319252",
   "metadata": {},
   "outputs": [
    {
     "name": "stdout",
     "output_type": "stream",
     "text": [
      "[1, 2, 3, 4, 5, 6, 7, 8, 9, 10]\n"
     ]
    },
    {
     "data": {
      "text/plain": [
       "136"
      ]
     },
     "execution_count": 15,
     "metadata": {},
     "output_type": "execute_result"
    }
   ],
   "source": [
    "'''\n",
    "The difference is that range() by itself will take up less memory in the system. It is very efficient, \n",
    "as a numerical generator. \n",
    "'''\n",
    "\n",
    "num_li = list(range(1,11))\n",
    "print(num_li)\n",
    "sys.getsizeof(num_li)"
   ]
  },
  {
   "cell_type": "code",
   "execution_count": 17,
   "id": "7384f093",
   "metadata": {},
   "outputs": [
    {
     "name": "stdout",
     "output_type": "stream",
     "text": [
      "(1, 2, 3, 4)\n"
     ]
    },
    {
     "data": {
      "text/plain": [
       "72"
      ]
     },
     "execution_count": 17,
     "metadata": {},
     "output_type": "execute_result"
    }
   ],
   "source": [
    "num_tup = tuple(range(1,5))\n",
    "print(num_tup)\n",
    "sys.getsizeof(num_tup)"
   ]
  },
  {
   "cell_type": "code",
   "execution_count": 19,
   "id": "4adc5e7b",
   "metadata": {},
   "outputs": [
    {
     "name": "stdout",
     "output_type": "stream",
     "text": [
      "{1, 2, 3, 4}\n"
     ]
    },
    {
     "data": {
      "text/plain": [
       "216"
      ]
     },
     "execution_count": 19,
     "metadata": {},
     "output_type": "execute_result"
    }
   ],
   "source": [
    "num_set = set(range(1,5))\n",
    "print(num_set)\n",
    "sys.getsizeof(num_set)"
   ]
  },
  {
   "cell_type": "code",
   "execution_count": 35,
   "id": "57e87eb8",
   "metadata": {},
   "outputs": [
    {
     "name": "stdout",
     "output_type": "stream",
     "text": [
      "14\n",
      "17\n",
      "20\n",
      "23\n",
      "26\n",
      "29\n",
      "32\n",
      "35\n",
      "38\n"
     ]
    }
   ],
   "source": [
    "for i in range(1, 26, 3):\n",
    "    print(i+13)"
   ]
  },
  {
   "cell_type": "code",
   "execution_count": null,
   "id": "aa6be908",
   "metadata": {},
   "outputs": [],
   "source": []
  },
  {
   "cell_type": "code",
   "execution_count": null,
   "id": "8f408edb",
   "metadata": {},
   "outputs": [],
   "source": []
  }
 ],
 "metadata": {
  "kernelspec": {
   "display_name": "Python 3 (ipykernel)",
   "language": "python",
   "name": "python3"
  },
  "language_info": {
   "codemirror_mode": {
    "name": "ipython",
    "version": 3
   },
   "file_extension": ".py",
   "mimetype": "text/x-python",
   "name": "python",
   "nbconvert_exporter": "python",
   "pygments_lexer": "ipython3",
   "version": "3.11.1"
  }
 },
 "nbformat": 4,
 "nbformat_minor": 5
}
