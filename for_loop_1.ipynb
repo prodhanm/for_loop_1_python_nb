{
 "cells": [
  {
   "cell_type": "code",
   "execution_count": 12,
   "id": "6bd9f0dc",
   "metadata": {},
   "outputs": [
    {
     "name": "stdout",
     "output_type": "stream",
     "text": [
      "d = I love pizza\n",
      "The length of the string is 12.\n",
      "'i' is located at index 8.\n",
      "slice_str = izz.\n"
     ]
    }
   ],
   "source": [
    "a = \"I\"\n",
    "b = \"love\"\n",
    "c = \"PIZZA\"\n",
    "\n",
    "d = a + \" \" + b + \" \" + c.lower()\n",
    "print(f\"d = {d}\")\n",
    "\n",
    "count = 0\n",
    "for i in d:\n",
    "    count += 1\n",
    "print(f\"The length of the string is {count}.\")\n",
    "\n",
    "# Slice the string to get \"izz\"\n",
    "slice_ind = d.index(\"i\")\n",
    "print(f\"'i' is located at index {slice_ind}.\")\n",
    "\n",
    "slice_str = d[8:11]\n",
    "print(f\"slice_str = {slice_str}.\")"
   ]
  },
  {
   "cell_type": "code",
   "execution_count": 16,
   "id": "81d8f84d",
   "metadata": {},
   "outputs": [
    {
     "name": "stdout",
     "output_type": "stream",
     "text": [
      "c = [6, 9]\n",
      "d = [9, 3, 6, 2, 7, 4, 8]\n",
      "e = [8, 4, 7, 2, 6]\n",
      "f = [6, 3, 9]\n"
     ]
    }
   ],
   "source": [
    "b = [8, 4, 7, 2, 6, 3, 9]\n",
    "\n",
    "c = b[4::2]\n",
    "print(f\"c = {c}\")\n",
    "\n",
    "d = b[::-1]\n",
    "print(f\"d = {d}\")\n",
    "\n",
    "e = b[:5]\n",
    "print(f\"e = {e}\")\n",
    "\n",
    "f = b[4:9]\n",
    "print(f\"f = {f}\")\n",
    "\n",
    "g = b[2:6]\n"
   ]
  },
  {
   "cell_type": "code",
   "execution_count": null,
   "id": "2b96298a",
   "metadata": {},
   "outputs": [],
   "source": []
  }
 ],
 "metadata": {
  "kernelspec": {
   "display_name": "Python 3 (ipykernel)",
   "language": "python",
   "name": "python3"
  },
  "language_info": {
   "codemirror_mode": {
    "name": "ipython",
    "version": 3
   },
   "file_extension": ".py",
   "mimetype": "text/x-python",
   "name": "python",
   "nbconvert_exporter": "python",
   "pygments_lexer": "ipython3",
   "version": "3.11.1"
  }
 },
 "nbformat": 4,
 "nbformat_minor": 5
}
