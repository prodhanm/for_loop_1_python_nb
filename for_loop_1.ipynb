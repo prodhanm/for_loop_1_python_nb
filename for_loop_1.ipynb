{
 "cells": [
  {
   "cell_type": "code",
   "execution_count": 9,
   "id": "84091799",
   "metadata": {},
   "outputs": [
    {
     "name": "stdout",
     "output_type": "stream",
     "text": [
      "d = I love pizza\n",
      "The length of the string is 12.\n",
      "'i' is located at index 8.\n"
     ]
    }
   ],
   "source": [
    "a = \"I\"\n",
    "b = \"love\"\n",
    "c = \"PIZZA\"\n",
    "\n",
    "d = a + \" \" + b + \" \" + c.lower()\n",
    "print(f\"d = {d}\")\n",
    "\n",
    "count = 0\n",
    "for i in d:\n",
    "    count += 1\n",
    "print(f\"The length of the string is {count}.\")\n",
    "\n",
    "# Slice the string to get \"izz\"\n",
    "slice_ind = d.index(\"i\")\n",
    "print(f\"'i' is located at index {slice_ind}.\")\n",
    "\n",
    "slice_str = d[8:12]\n",
    "print(slice)"
   ]
  },
  {
   "cell_type": "code",
   "execution_count": null,
   "id": "a3ab4a1b",
   "metadata": {},
   "outputs": [],
   "source": []
  }
 ],
 "metadata": {
  "kernelspec": {
   "display_name": "Python 3 (ipykernel)",
   "language": "python",
   "name": "python3"
  },
  "language_info": {
   "codemirror_mode": {
    "name": "ipython",
    "version": 3
   },
   "file_extension": ".py",
   "mimetype": "text/x-python",
   "name": "python",
   "nbconvert_exporter": "python",
   "pygments_lexer": "ipython3",
   "version": "3.11.1"
  }
 },
 "nbformat": 4,
 "nbformat_minor": 5
}
