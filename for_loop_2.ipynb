{
 "cells": [
  {
   "cell_type": "code",
   "execution_count": null,
   "id": "0fb1aad1",
   "metadata": {},
   "outputs": [],
   "source": [
    "# The use of a total value from a for loop with a range()\n",
    "\n",
    "total = 0\n",
    "#total is initialized with zero to allow the variable to update each time in a for loop\n",
    "\n",
    "for num in range(1)"
   ]
  }
 ],
 "metadata": {
  "kernelspec": {
   "display_name": "Python 3 (ipykernel)",
   "language": "python",
   "name": "python3"
  },
  "language_info": {
   "codemirror_mode": {
    "name": "ipython",
    "version": 3
   },
   "file_extension": ".py",
   "mimetype": "text/x-python",
   "name": "python",
   "nbconvert_exporter": "python",
   "pygments_lexer": "ipython3",
   "version": "3.11.1"
  }
 },
 "nbformat": 4,
 "nbformat_minor": 5
}
