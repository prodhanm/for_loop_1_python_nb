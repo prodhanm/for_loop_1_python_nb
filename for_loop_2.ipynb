{
 "cells": [
  {
   "cell_type": "code",
   "execution_count": 2,
   "id": "9e543553",
   "metadata": {},
   "outputs": [
    {
     "name": "stdout",
     "output_type": "stream",
     "text": [
      "Total = 45150\n"
     ]
    }
   ],
   "source": [
    "# The use of a total value from a for loop with a range()\n",
    "\n",
    "total = 0\n",
    "#total is initialized with zero to allow the variable to update each time in a for loop\n",
    "\n",
    "for num in range(1, 301):\n",
    "    total += num\n",
    "print(f'Total = {total}')"
   ]
  },
  {
   "cell_type": "code",
   "execution_count": null,
   "id": "f8b7b4af",
   "metadata": {},
   "outputs": [],
   "source": [
    "# The use of a list to concatenate a sentence from the list.\n",
    "list_str = [\"I\", \"love\", \"you\", \"!\"]\n",
    "\n",
    "phrase = \"\"\n",
    "\n",
    "for word in range(len(list_str)):\n",
    "    if word < len(list_str) -1:\n",
    "        phrase += list_str[word] + \"\"\n",
    "    else:\n",
    "        phrase += list_str[word]"
   ]
  }
 ],
 "metadata": {
  "kernelspec": {
   "display_name": "Python 3 (ipykernel)",
   "language": "python",
   "name": "python3"
  },
  "language_info": {
   "codemirror_mode": {
    "name": "ipython",
    "version": 3
   },
   "file_extension": ".py",
   "mimetype": "text/x-python",
   "name": "python",
   "nbconvert_exporter": "python",
   "pygments_lexer": "ipython3",
   "version": "3.11.1"
  }
 },
 "nbformat": 4,
 "nbformat_minor": 5
}
